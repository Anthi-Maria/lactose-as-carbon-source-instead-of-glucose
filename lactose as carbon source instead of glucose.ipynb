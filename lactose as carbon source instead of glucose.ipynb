{
 "cells": [
  {
   "cell_type": "code",
   "execution_count": 1,
   "id": "multiple-poultry",
   "metadata": {},
   "outputs": [
    {
     "name": "stdout",
     "output_type": "stream",
     "text": [
      "Academic license - for non-commercial use only - expires 2023-02-21\n",
      "Using license file /home/schwartzlab/gurobi.lic\n"
     ]
    },
    {
     "data": {
      "text/plain": [
       "<optlang.gurobi_interface.Model at 0x7fb7ecb8fca0>"
      ]
     },
     "execution_count": 1,
     "metadata": {},
     "output_type": "execute_result"
    }
   ],
   "source": [
    "import numpy as np\n",
    "import pandas as pd\n",
    "import cobra.test\n",
    "import os\n",
    "\n",
    "from os.path import join\n",
    "\n",
    "from time import time\n",
    "\n",
    "\n",
    "from cobra.flux_analysis import (\n",
    "    single_gene_deletion, single_reaction_deletion, double_gene_deletion,\n",
    "    double_reaction_deletion)\n",
    "\n",
    "a = cobra.io.read_sbml_model(\"iEC1344_C.xml\")\n",
    "\n",
    "import cobra\n",
    "from cobra.test import create_test_model\n",
    "cobra_config = cobra.Configuration()\n",
    "cobra_config.solver = \"gurobi\"\n",
    "model = create_test_model(\"textbook\")\n",
    "model.solver"
   ]
  },
  {
   "cell_type": "code",
   "execution_count": 2,
   "id": "beneficial-talent",
   "metadata": {},
   "outputs": [
    {
     "data": {
      "text/html": [
       "<h3>Objective</h3><p>1.0 BIOMASS_Ec_iJO1366_core_53p95M = 0.9823963461343024</p><h4>Uptake</h4><table border=\"1\" class=\"dataframe\">\n",
       "  <thead>\n",
       "    <tr style=\"text-align: right;\">\n",
       "      <th>Metabolite</th>\n",
       "      <th>Reaction</th>\n",
       "      <th>Flux</th>\n",
       "      <th>C-Number</th>\n",
       "      <th>C-Flux</th>\n",
       "    </tr>\n",
       "  </thead>\n",
       "  <tbody>\n",
       "    <tr>\n",
       "      <td>ca2_e</td>\n",
       "      <td>EX_ca2_e</td>\n",
       "      <td>0.005113</td>\n",
       "      <td>0</td>\n",
       "      <td>0.00%</td>\n",
       "    </tr>\n",
       "    <tr>\n",
       "      <td>cl_e</td>\n",
       "      <td>EX_cl_e</td>\n",
       "      <td>0.005113</td>\n",
       "      <td>0</td>\n",
       "      <td>0.00%</td>\n",
       "    </tr>\n",
       "    <tr>\n",
       "      <td>cobalt2_e</td>\n",
       "      <td>EX_cobalt2_e</td>\n",
       "      <td>2.456E-05</td>\n",
       "      <td>0</td>\n",
       "      <td>0.00%</td>\n",
       "    </tr>\n",
       "    <tr>\n",
       "      <td>cu2_e</td>\n",
       "      <td>EX_cu2_e</td>\n",
       "      <td>0.0006965</td>\n",
       "      <td>0</td>\n",
       "      <td>0.00%</td>\n",
       "    </tr>\n",
       "    <tr>\n",
       "      <td>fe2_e</td>\n",
       "      <td>EX_fe2_e</td>\n",
       "      <td>0.01578</td>\n",
       "      <td>0</td>\n",
       "      <td>0.00%</td>\n",
       "    </tr>\n",
       "    <tr>\n",
       "      <td>glc__D_e</td>\n",
       "      <td>EX_glc__D_e</td>\n",
       "      <td>10</td>\n",
       "      <td>6</td>\n",
       "      <td>100.00%</td>\n",
       "    </tr>\n",
       "    <tr>\n",
       "      <td>k_e</td>\n",
       "      <td>EX_k_e</td>\n",
       "      <td>0.1918</td>\n",
       "      <td>0</td>\n",
       "      <td>0.00%</td>\n",
       "    </tr>\n",
       "    <tr>\n",
       "      <td>mg2_e</td>\n",
       "      <td>EX_mg2_e</td>\n",
       "      <td>0.008522</td>\n",
       "      <td>0</td>\n",
       "      <td>0.00%</td>\n",
       "    </tr>\n",
       "    <tr>\n",
       "      <td>mn2_e</td>\n",
       "      <td>EX_mn2_e</td>\n",
       "      <td>0.0006788</td>\n",
       "      <td>0</td>\n",
       "      <td>0.00%</td>\n",
       "    </tr>\n",
       "    <tr>\n",
       "      <td>mobd_e</td>\n",
       "      <td>EX_mobd_e</td>\n",
       "      <td>0.0001267</td>\n",
       "      <td>0</td>\n",
       "      <td>0.00%</td>\n",
       "    </tr>\n",
       "    <tr>\n",
       "      <td>nh4_e</td>\n",
       "      <td>EX_nh4_e</td>\n",
       "      <td>10.61</td>\n",
       "      <td>0</td>\n",
       "      <td>0.00%</td>\n",
       "    </tr>\n",
       "    <tr>\n",
       "      <td>ni2_e</td>\n",
       "      <td>EX_ni2_e</td>\n",
       "      <td>0.0003173</td>\n",
       "      <td>0</td>\n",
       "      <td>0.00%</td>\n",
       "    </tr>\n",
       "    <tr>\n",
       "      <td>o2_e</td>\n",
       "      <td>EX_o2_e</td>\n",
       "      <td>17.58</td>\n",
       "      <td>0</td>\n",
       "      <td>0.00%</td>\n",
       "    </tr>\n",
       "    <tr>\n",
       "      <td>pi_e</td>\n",
       "      <td>EX_pi_e</td>\n",
       "      <td>0.9476</td>\n",
       "      <td>0</td>\n",
       "      <td>0.00%</td>\n",
       "    </tr>\n",
       "    <tr>\n",
       "      <td>so4_e</td>\n",
       "      <td>EX_so4_e</td>\n",
       "      <td>0.2478</td>\n",
       "      <td>0</td>\n",
       "      <td>0.00%</td>\n",
       "    </tr>\n",
       "    <tr>\n",
       "      <td>zn2_e</td>\n",
       "      <td>EX_zn2_e</td>\n",
       "      <td>0.000335</td>\n",
       "      <td>0</td>\n",
       "      <td>0.00%</td>\n",
       "    </tr>\n",
       "  </tbody>\n",
       "</table><h4>Secretion</h4><table border=\"1\" class=\"dataframe\">\n",
       "  <thead>\n",
       "    <tr style=\"text-align: right;\">\n",
       "      <th>Metabolite</th>\n",
       "      <th>Reaction</th>\n",
       "      <th>Flux</th>\n",
       "      <th>C-Number</th>\n",
       "      <th>C-Flux</th>\n",
       "    </tr>\n",
       "  </thead>\n",
       "  <tbody>\n",
       "    <tr>\n",
       "      <td>4hba_c</td>\n",
       "      <td>DM_4hba_c</td>\n",
       "      <td>-0.0002191</td>\n",
       "      <td>7</td>\n",
       "      <td>0.01%</td>\n",
       "    </tr>\n",
       "    <tr>\n",
       "      <td>5drib_c</td>\n",
       "      <td>DM_5drib_c</td>\n",
       "      <td>-1.965E-06</td>\n",
       "      <td>5</td>\n",
       "      <td>0.00%</td>\n",
       "    </tr>\n",
       "    <tr>\n",
       "      <td>amob_c</td>\n",
       "      <td>DM_amob_c</td>\n",
       "      <td>-1.965E-06</td>\n",
       "      <td>15</td>\n",
       "      <td>0.00%</td>\n",
       "    </tr>\n",
       "    <tr>\n",
       "      <td>mththf_c</td>\n",
       "      <td>DM_mththf_c</td>\n",
       "      <td>-0.0004401</td>\n",
       "      <td>5</td>\n",
       "      <td>0.01%</td>\n",
       "    </tr>\n",
       "    <tr>\n",
       "      <td>co2_e</td>\n",
       "      <td>EX_co2_e</td>\n",
       "      <td>-19.68</td>\n",
       "      <td>1</td>\n",
       "      <td>99.98%</td>\n",
       "    </tr>\n",
       "    <tr>\n",
       "      <td>h2o_e</td>\n",
       "      <td>EX_h2o_e</td>\n",
       "      <td>-45.62</td>\n",
       "      <td>0</td>\n",
       "      <td>0.00%</td>\n",
       "    </tr>\n",
       "    <tr>\n",
       "      <td>h_e</td>\n",
       "      <td>EX_h_e</td>\n",
       "      <td>-9.026</td>\n",
       "      <td>0</td>\n",
       "      <td>0.00%</td>\n",
       "    </tr>\n",
       "    <tr>\n",
       "      <td>meoh_e</td>\n",
       "      <td>EX_meoh_e</td>\n",
       "      <td>-1.965E-06</td>\n",
       "      <td>1</td>\n",
       "      <td>0.00%</td>\n",
       "    </tr>\n",
       "  </tbody>\n",
       "</table>"
      ],
      "text/plain": [
       "<cobra.summary.model_summary.ModelSummary at 0x7f52e04166a0>"
      ]
     },
     "execution_count": 2,
     "metadata": {},
     "output_type": "execute_result"
    }
   ],
   "source": [
    "a.summary()"
   ]
  },
  {
   "cell_type": "code",
   "execution_count": 4,
   "id": "better-advance",
   "metadata": {},
   "outputs": [
    {
     "data": {
      "text/html": [
       "\n",
       "        <table>\n",
       "            <tr>\n",
       "                <td><strong>Reaction identifier</strong></td><td>EX_glc__D_e</td>\n",
       "            </tr><tr>\n",
       "                <td><strong>Name</strong></td><td>D-Glucose exchange</td>\n",
       "            </tr><tr>\n",
       "                <td><strong>Memory address</strong></td>\n",
       "                <td>0x07f00fb663820</td>\n",
       "            </tr><tr>\n",
       "                <td><strong>Stoichiometry</strong></td>\n",
       "                <td>\n",
       "                    <p style='text-align:right'>glc__D_e <=></p>\n",
       "                    <p style='text-align:right'>D-Glucose <=></p>\n",
       "                </td>\n",
       "            </tr><tr>\n",
       "                <td><strong>GPR</strong></td><td></td>\n",
       "            </tr><tr>\n",
       "                <td><strong>Lower bound</strong></td><td>-10.0</td>\n",
       "            </tr><tr>\n",
       "                <td><strong>Upper bound</strong></td><td>1000.0</td>\n",
       "            </tr>\n",
       "        </table>\n",
       "        "
      ],
      "text/plain": [
       "<Reaction EX_glc__D_e at 0x7f00fb663820>"
      ]
     },
     "execution_count": 4,
     "metadata": {},
     "output_type": "execute_result"
    }
   ],
   "source": [
    "a.reactions.EX_glc__D_e"
   ]
  },
  {
   "cell_type": "code",
   "execution_count": 5,
   "id": "explicit-matter",
   "metadata": {},
   "outputs": [
    {
     "data": {
      "text/html": [
       "\n",
       "        <table>\n",
       "            <tr>\n",
       "                <td><strong>Reaction identifier</strong></td><td>EX_glyc_e</td>\n",
       "            </tr><tr>\n",
       "                <td><strong>Name</strong></td><td>Glycerol exchange</td>\n",
       "            </tr><tr>\n",
       "                <td><strong>Memory address</strong></td>\n",
       "                <td>0x07f00fb5fc6a0</td>\n",
       "            </tr><tr>\n",
       "                <td><strong>Stoichiometry</strong></td>\n",
       "                <td>\n",
       "                    <p style='text-align:right'>glyc_e --></p>\n",
       "                    <p style='text-align:right'>Glycerol --></p>\n",
       "                </td>\n",
       "            </tr><tr>\n",
       "                <td><strong>GPR</strong></td><td></td>\n",
       "            </tr><tr>\n",
       "                <td><strong>Lower bound</strong></td><td>0.0</td>\n",
       "            </tr><tr>\n",
       "                <td><strong>Upper bound</strong></td><td>1000.0</td>\n",
       "            </tr>\n",
       "        </table>\n",
       "        "
      ],
      "text/plain": [
       "<Reaction EX_glyc_e at 0x7f00fb5fc6a0>"
      ]
     },
     "execution_count": 5,
     "metadata": {},
     "output_type": "execute_result"
    }
   ],
   "source": [
    "a.reactions.EX_glyc_e"
   ]
  },
  {
   "cell_type": "code",
   "execution_count": 6,
   "id": "whole-african",
   "metadata": {},
   "outputs": [
    {
     "data": {
      "text/html": [
       "\n",
       "        <table>\n",
       "            <tr>\n",
       "                <td><strong>Reaction identifier</strong></td><td>EX_lcts_e</td>\n",
       "            </tr><tr>\n",
       "                <td><strong>Name</strong></td><td>Lactose exchange</td>\n",
       "            </tr><tr>\n",
       "                <td><strong>Memory address</strong></td>\n",
       "                <td>0x07f00fb5899a0</td>\n",
       "            </tr><tr>\n",
       "                <td><strong>Stoichiometry</strong></td>\n",
       "                <td>\n",
       "                    <p style='text-align:right'>lcts_e --></p>\n",
       "                    <p style='text-align:right'>Lactose C12H22O11 --></p>\n",
       "                </td>\n",
       "            </tr><tr>\n",
       "                <td><strong>GPR</strong></td><td></td>\n",
       "            </tr><tr>\n",
       "                <td><strong>Lower bound</strong></td><td>0.0</td>\n",
       "            </tr><tr>\n",
       "                <td><strong>Upper bound</strong></td><td>1000.0</td>\n",
       "            </tr>\n",
       "        </table>\n",
       "        "
      ],
      "text/plain": [
       "<Reaction EX_lcts_e at 0x7f00fb5899a0>"
      ]
     },
     "execution_count": 6,
     "metadata": {},
     "output_type": "execute_result"
    }
   ],
   "source": [
    "a.reactions.EX_lcts_e"
   ]
  },
  {
   "cell_type": "code",
   "execution_count": 2,
   "id": "floral-fraud",
   "metadata": {},
   "outputs": [],
   "source": [
    "a.reactions.EX_lcts_e.lower_bound=-10\n",
    "a.reactions.EX_lcts_e.upper_bound= 1000\n",
    "\n",
    "a.reactions.EX_glc__D_e.lower_bound= 0\n",
    "a.reactions.EX_glc__D_e.upper_bound= 0\n"
   ]
  },
  {
   "cell_type": "code",
   "execution_count": 3,
   "id": "recent-employer",
   "metadata": {},
   "outputs": [
    {
     "name": "stdout",
     "output_type": "stream",
     "text": [
      "<Solution 1.967 at 0x7fb838d85130>\n"
     ]
    },
    {
     "data": {
      "text/plain": [
       "1.9674887345949097"
      ]
     },
     "execution_count": 3,
     "metadata": {},
     "output_type": "execute_result"
    }
   ],
   "source": [
    "solution = a.optimize()\n",
    "print(solution)\n",
    "\n",
    "solution.objective_value\n"
   ]
  },
  {
   "cell_type": "code",
   "execution_count": 12,
   "id": "spiritual-northern",
   "metadata": {},
   "outputs": [
    {
     "name": "stderr",
     "output_type": "stream",
     "text": [
      "/home/schwartzlab/miniconda3/lib/python3.8/site-packages/cobra/util/solver.py:508: UserWarning: Solver status is 'infeasible'.\n",
      "  warn(f\"Solver status is '{status}'.\", UserWarning)\n"
     ]
    }
   ],
   "source": [
    "fmin = -1000\n",
    "fmax = 1000\n",
    "i = -1\n",
    "\n",
    "while i<fmax:\n",
    "    x = list()    # x and y need to be reinitialised for each new reaction\n",
    "    y = list()\n",
    "    f = fmin      # define a new variable to change the flux, fmin should remain a fixed value\n",
    "\n",
    "    i = i + 1\n",
    "    r = a.reactions[i]\n",
    "    r_id = r.id\n",
    "\n",
    "    foriginalmax = a.reactions.get_by_id(r_id).upper_bound\n",
    "    foriginalmin = a.reactions.get_by_id(r_id).lower_bound\n",
    "    a.reactions.get_by_id(r_id).lower_bound = a.reactions.get_by_id(r_id).upper_bound = f\n",
    "\n",
    "    while f <= fmax:\n",
    "        a.reactions.get_by_id(r_id).lower_bound = a.reactions.get_by_id(r_id).upper_bound = f\n",
    "        \n",
    "        solution = a.optimize()\n",
    "        ov_new = solution.objective_value\n",
    "\n",
    "        x.append(f)\n",
    "        y.append(ov_new)\n",
    "\n",
    "        f = f + 10\n",
    "\n",
    "    d = pd.DataFrame(x, columns = ['flux'])\n",
    "    d2 = pd.DataFrame(y, columns = ['Biomass'])\n",
    "    d['Biomass'] = d2['Biomass']\n",
    "    biomass_per_flux = d.to_csv('biomass_per_flux_for_reaction_{}_lactose.csv'.format(r_id), index = True)\n",
    "    a.reactions.get_by_id(r_id).lower_bound = foriginalmin\n",
    "    a.reactions.get_by_id(r_id).upper_bound = foriginalmax"
   ]
  },
  {
   "cell_type": "code",
   "execution_count": 20,
   "id": "dated-environment",
   "metadata": {},
   "outputs": [
    {
     "name": "stderr",
     "output_type": "stream",
     "text": [
      "/home/schwartzlab/miniconda3/lib/python3.8/site-packages/cobra/util/solver.py:508: UserWarning: Solver status is 'infeasible'.\n",
      "  warn(f\"Solver status is '{status}'.\", UserWarning)\n"
     ]
    }
   ],
   "source": [
    "fmin = -1000\n",
    "fmax = 1000\n",
    "i = 1001\n",
    "\n",
    "\n",
    "x = list()    # x and y need to be reinitialised for each new reaction\n",
    "y = list()\n",
    "f = fmin      # define a new variable to change the flux, fmin should remain a fixed value\n",
    "\n",
    "\n",
    "r = a.reactions[i]\n",
    "r_id = r.id\n",
    "\n",
    "foriginalmax = a.reactions.get_by_id(r_id).upper_bound\n",
    "foriginalmin = a.reactions.get_by_id(r_id).lower_bound\n",
    "a.reactions.get_by_id(r_id).lower_bound = a.reactions.get_by_id(r_id).upper_bound = f\n",
    "\n",
    "while f <= fmax:\n",
    "    a.reactions.get_by_id(r_id).lower_bound = a.reactions.get_by_id(r_id).upper_bound = f\n",
    "        \n",
    "    solution = a.optimize()\n",
    "    ov_new = solution.objective_value\n",
    "\n",
    "    x.append(f)\n",
    "    y.append(ov_new)\n",
    "\n",
    "    f = f + 10\n",
    "\n",
    "d = pd.DataFrame(x, columns = ['flux'])\n",
    "d2 = pd.DataFrame(y, columns = ['Biomass'])\n",
    "d['Biomass'] = d2['Biomass']\n",
    "biomass_per_flux = d.to_csv('biomass_per_flux_for_reaction_{}_lactose.csv'.format(r_id), index = True)\n",
    "a.reactions.get_by_id(r_id).lower_bound = foriginalmin\n",
    "a.reactions.get_by_id(r_id).upper_bound = foriginalmax"
   ]
  },
  {
   "cell_type": "code",
   "execution_count": 25,
   "id": "attractive-strategy",
   "metadata": {},
   "outputs": [],
   "source": [
    "fmin = -1000\n",
    "fmax = 1000\n",
    "i = 1002\n",
    "\n",
    "\n",
    "x = list()    # x and y need to be reinitialised for each new reaction\n",
    "y = list()\n",
    "f = fmin      # define a new variable to change the flux, fmin should remain a fixed value\n",
    "\n",
    "\n",
    "r = a.reactions[i]\n",
    "r_id = r.id\n",
    "\n",
    "foriginalmax = a.reactions.get_by_id(r_id).upper_bound\n",
    "foriginalmin = a.reactions.get_by_id(r_id).lower_bound\n",
    "a.reactions.get_by_id(r_id).lower_bound = a.reactions.get_by_id(r_id).upper_bound = f\n",
    "\n",
    "while f <= fmax:\n",
    "    a.reactions.get_by_id(r_id).lower_bound = a.reactions.get_by_id(r_id).upper_bound = f\n",
    "        \n",
    "    solution = a.optimize()\n",
    "    ov_new = solution.objective_value\n",
    "\n",
    "    x.append(f)\n",
    "    y.append(ov_new)\n",
    "\n",
    "    f = f + 10\n",
    "\n",
    "d = pd.DataFrame(x, columns = ['flux'])\n",
    "d2 = pd.DataFrame(y, columns = ['Biomass'])\n",
    "d['Biomass'] = d2['Biomass']\n",
    "biomass_per_flux = d.to_csv('biomass_per_flux_for_reaction_{}_lactose.csv'.format(r_id), index = True)\n",
    "a.reactions.get_by_id(r_id).lower_bound = foriginalmin\n",
    "a.reactions.get_by_id(r_id).upper_bound = foriginalmax"
   ]
  },
  {
   "cell_type": "code",
   "execution_count": 29,
   "id": "difficult-metadata",
   "metadata": {},
   "outputs": [],
   "source": [
    "fmin = -1000\n",
    "fmax = 1000\n",
    "i = 1003\n",
    "\n",
    "\n",
    "x = list()    # x and y need to be reinitialised for each new reaction\n",
    "y = list()\n",
    "f = fmin      # define a new variable to change the flux, fmin should remain a fixed value\n",
    "\n",
    "\n",
    "r = a.reactions[i]\n",
    "r_id = r.id\n",
    "\n",
    "foriginalmax = a.reactions.get_by_id(r_id).upper_bound\n",
    "foriginalmin = a.reactions.get_by_id(r_id).lower_bound\n",
    "a.reactions.get_by_id(r_id).lower_bound = a.reactions.get_by_id(r_id).upper_bound = f\n",
    "\n",
    "while f <= fmax:\n",
    "    a.reactions.get_by_id(r_id).lower_bound = a.reactions.get_by_id(r_id).upper_bound = f\n",
    "        \n",
    "    solution = a.optimize()\n",
    "    ov_new = solution.objective_value\n",
    "\n",
    "    x.append(f)\n",
    "    y.append(ov_new)\n",
    "\n",
    "    f = f + 10\n",
    "\n",
    "d = pd.DataFrame(x, columns = ['flux'])\n",
    "d2 = pd.DataFrame(y, columns = ['Biomass'])\n",
    "d['Biomass'] = d2['Biomass']\n",
    "biomass_per_flux = d.to_csv('biomass_per_flux_for_reaction_{}_lactose.csv'.format(r_id), index = True)\n",
    "a.reactions.get_by_id(r_id).lower_bound = foriginalmin\n",
    "a.reactions.get_by_id(r_id).upper_bound = foriginalmax"
   ]
  },
  {
   "cell_type": "code",
   "execution_count": 33,
   "id": "respective-edinburgh",
   "metadata": {},
   "outputs": [
    {
     "ename": "IndexError",
     "evalue": "list index out of range",
     "output_type": "error",
     "traceback": [
      "\u001b[0;31m---------------------------------------------------------------------------\u001b[0m",
      "\u001b[0;31mIndexError\u001b[0m                                Traceback (most recent call last)",
      "\u001b[0;32m<ipython-input-33-24c821c6b6d2>\u001b[0m in \u001b[0;36m<module>\u001b[0;34m\u001b[0m\n\u001b[1;32m      9\u001b[0m \u001b[0;34m\u001b[0m\u001b[0m\n\u001b[1;32m     10\u001b[0m     \u001b[0mi\u001b[0m \u001b[0;34m=\u001b[0m \u001b[0mi\u001b[0m \u001b[0;34m+\u001b[0m \u001b[0;36m1\u001b[0m\u001b[0;34m\u001b[0m\u001b[0;34m\u001b[0m\u001b[0m\n\u001b[0;32m---> 11\u001b[0;31m     \u001b[0mr\u001b[0m \u001b[0;34m=\u001b[0m \u001b[0ma\u001b[0m\u001b[0;34m.\u001b[0m\u001b[0mreactions\u001b[0m\u001b[0;34m[\u001b[0m\u001b[0mi\u001b[0m\u001b[0;34m]\u001b[0m\u001b[0;34m\u001b[0m\u001b[0;34m\u001b[0m\u001b[0m\n\u001b[0m\u001b[1;32m     12\u001b[0m     \u001b[0mr_id\u001b[0m \u001b[0;34m=\u001b[0m \u001b[0mr\u001b[0m\u001b[0;34m.\u001b[0m\u001b[0mid\u001b[0m\u001b[0;34m\u001b[0m\u001b[0;34m\u001b[0m\u001b[0m\n\u001b[1;32m     13\u001b[0m \u001b[0;34m\u001b[0m\u001b[0m\n",
      "\u001b[0;32m~/miniconda3/lib/python3.8/site-packages/cobra/core/dictlist.py\u001b[0m in \u001b[0;36m__getitem__\u001b[0;34m(self, i)\u001b[0m\n\u001b[1;32m    394\u001b[0m     \u001b[0;32mdef\u001b[0m \u001b[0m__getitem__\u001b[0m\u001b[0;34m(\u001b[0m\u001b[0mself\u001b[0m\u001b[0;34m,\u001b[0m \u001b[0mi\u001b[0m\u001b[0;34m)\u001b[0m\u001b[0;34m:\u001b[0m\u001b[0;34m\u001b[0m\u001b[0;34m\u001b[0m\u001b[0m\n\u001b[1;32m    395\u001b[0m         \u001b[0;32mif\u001b[0m \u001b[0misinstance\u001b[0m\u001b[0;34m(\u001b[0m\u001b[0mi\u001b[0m\u001b[0;34m,\u001b[0m \u001b[0mint\u001b[0m\u001b[0;34m)\u001b[0m\u001b[0;34m:\u001b[0m\u001b[0;34m\u001b[0m\u001b[0;34m\u001b[0m\u001b[0m\n\u001b[0;32m--> 396\u001b[0;31m             \u001b[0;32mreturn\u001b[0m \u001b[0mlist\u001b[0m\u001b[0;34m.\u001b[0m\u001b[0m__getitem__\u001b[0m\u001b[0;34m(\u001b[0m\u001b[0mself\u001b[0m\u001b[0;34m,\u001b[0m \u001b[0mi\u001b[0m\u001b[0;34m)\u001b[0m\u001b[0;34m\u001b[0m\u001b[0;34m\u001b[0m\u001b[0m\n\u001b[0m\u001b[1;32m    397\u001b[0m         \u001b[0;32melif\u001b[0m \u001b[0misinstance\u001b[0m\u001b[0;34m(\u001b[0m\u001b[0mi\u001b[0m\u001b[0;34m,\u001b[0m \u001b[0mslice\u001b[0m\u001b[0;34m)\u001b[0m\u001b[0;34m:\u001b[0m\u001b[0;34m\u001b[0m\u001b[0;34m\u001b[0m\u001b[0m\n\u001b[1;32m    398\u001b[0m             \u001b[0mselection\u001b[0m \u001b[0;34m=\u001b[0m \u001b[0mself\u001b[0m\u001b[0;34m.\u001b[0m\u001b[0m__class__\u001b[0m\u001b[0;34m(\u001b[0m\u001b[0;34m)\u001b[0m\u001b[0;34m\u001b[0m\u001b[0;34m\u001b[0m\u001b[0m\n",
      "\u001b[0;31mIndexError\u001b[0m: list index out of range"
     ]
    }
   ],
   "source": [
    "fmin = -1000\n",
    "fmax = 1000\n",
    "i = 1003\n",
    "\n",
    "while i<2797:\n",
    "    x = list()    # x and y need to be reinitialised for each new reaction\n",
    "    y = list()\n",
    "    f = fmin      # define a new variable to change the flux, fmin should remain a fixed value\n",
    "\n",
    "    i = i + 1\n",
    "    r = a.reactions[i]\n",
    "    r_id = r.id\n",
    "\n",
    "    foriginalmax = a.reactions.get_by_id(r_id).upper_bound\n",
    "    foriginalmin = a.reactions.get_by_id(r_id).lower_bound\n",
    "    a.reactions.get_by_id(r_id).lower_bound = a.reactions.get_by_id(r_id).upper_bound = f\n",
    "\n",
    "    while f <= fmax:\n",
    "        a.reactions.get_by_id(r_id).lower_bound = a.reactions.get_by_id(r_id).upper_bound = f\n",
    "        \n",
    "        solution = a.optimize()\n",
    "        ov_new = solution.objective_value\n",
    "\n",
    "        x.append(f)\n",
    "        y.append(ov_new)\n",
    "\n",
    "        f = f + 10\n",
    "\n",
    "    d = pd.DataFrame(x, columns = ['flux'])\n",
    "    d2 = pd.DataFrame(y, columns = ['Biomass'])\n",
    "    d['Biomass'] = d2['Biomass']\n",
    "    biomass_per_flux = d.to_csv('biomass_per_flux_for_reaction_{}_lactose.csv'.format(r_id), index = True)\n",
    "    a.reactions.get_by_id(r_id).lower_bound = foriginalmin\n",
    "    a.reactions.get_by_id(r_id).upper_bound = foriginalmax"
   ]
  },
  {
   "cell_type": "code",
   "execution_count": 18,
   "id": "varied-cardiff",
   "metadata": {},
   "outputs": [
    {
     "data": {
      "text/plain": [
       "2726"
      ]
     },
     "execution_count": 18,
     "metadata": {},
     "output_type": "execute_result"
    }
   ],
   "source": [
    "len(a.reactions)"
   ]
  },
  {
   "cell_type": "code",
   "execution_count": 29,
   "id": "available-christian",
   "metadata": {},
   "outputs": [
    {
     "name": "stdout",
     "output_type": "stream",
     "text": [
      "<Solution 0.019 at 0x7f28d681f580>\n"
     ]
    },
    {
     "data": {
      "text/plain": [
       "0.018582406854482023"
      ]
     },
     "execution_count": 29,
     "metadata": {},
     "output_type": "execute_result"
    }
   ],
   "source": [
    "a.reactions.get_by_id(\"CYTK1\").lower_bound = a.reactions.get_by_id(\"CYTK1\").upper_bound = 460\n",
    "\n",
    "solution = a.optimize()\n",
    "print(solution)\n",
    "\n",
    "solution.objective_value\n"
   ]
  },
  {
   "cell_type": "code",
   "execution_count": 4,
   "id": "civilian-thumb",
   "metadata": {},
   "outputs": [],
   "source": [
    "solution.fluxes\n",
    "fluxes_after_FBA = solution.fluxes.to_csv('fluxes_after_FBA_lactose.csv', index = True)"
   ]
  },
  {
   "cell_type": "code",
   "execution_count": null,
   "id": "small-network",
   "metadata": {},
   "outputs": [],
   "source": []
  }
 ],
 "metadata": {
  "kernelspec": {
   "display_name": "Python 3",
   "language": "python",
   "name": "python3"
  },
  "language_info": {
   "codemirror_mode": {
    "name": "ipython",
    "version": 3
   },
   "file_extension": ".py",
   "mimetype": "text/x-python",
   "name": "python",
   "nbconvert_exporter": "python",
   "pygments_lexer": "ipython3",
   "version": "3.8.3"
  }
 },
 "nbformat": 4,
 "nbformat_minor": 5
}
